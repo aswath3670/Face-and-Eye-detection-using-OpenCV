{
 "cells": [
  {
   "cell_type": "markdown",
   "id": "ae26c12e-832a-4292-9ada-8ac16709fee3",
   "metadata": {},
   "source": [
    "# Detecting Face and Eye using OpenCV"
   ]
  },
  {
   "cell_type": "code",
   "execution_count": 7,
   "id": "38726e71-09ae-4edb-a2a7-05ecb921ab69",
   "metadata": {},
   "outputs": [],
   "source": [
    "import numpy as np\n",
    "import cv2\n",
    "frontface=cv2.CascadeClassifier('haarcascade_frontalface_default.xml')\n",
    "eye=cv2.CascadeClassifier('haarcascade_eye.xml')\n",
    "\n",
    "img=cv2.imread('mam.jpg')\n",
    "gray=cv2.cvtColor(img,cv2.COLOR_BGR2GRAY)\n",
    "\n",
    "faces=frontface.detectMultiScale(gray,1.3,5)\n",
    "for(x,y,w,h) in faces:\n",
    "    img=cv2.rectangle(img,(x,y),(x+w,y+h),(255,0,0),2)\n",
    "    roi_gray=gray[y:y+h, x:x+w]\n",
    "    roi_color=img[y:y+h, x:x+w]\n",
    "    eyes=eye.detectMultiScale(roi_gray)\n",
    "    for (ex,ey,ew,eh) in eyes:\n",
    "        cv2.rectangle(roi_color,(ex,ey),(ex+ew,ey+eh),(0,255,0),2)\n",
    "\n",
    "cv2.imshow('img',img)\n",
    "cv2.waitKey(0)\n",
    "cv2.destroyAllWindows()"
   ]
  },
  {
   "cell_type": "code",
   "execution_count": null,
   "id": "1927583f-7806-4d41-a19d-778a7d2d3d7f",
   "metadata": {},
   "outputs": [],
   "source": []
  },
  {
   "cell_type": "code",
   "execution_count": null,
   "id": "e4609195-c5e5-4a2c-b97e-17972c6123f7",
   "metadata": {},
   "outputs": [],
   "source": []
  }
 ],
 "metadata": {
  "kernelspec": {
   "display_name": "Python 3 (ipykernel)",
   "language": "python",
   "name": "python3"
  },
  "language_info": {
   "codemirror_mode": {
    "name": "ipython",
    "version": 3
   },
   "file_extension": ".py",
   "mimetype": "text/x-python",
   "name": "python",
   "nbconvert_exporter": "python",
   "pygments_lexer": "ipython3",
   "version": "3.12.4"
  }
 },
 "nbformat": 4,
 "nbformat_minor": 5
}
